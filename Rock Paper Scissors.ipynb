{
  "nbformat": 4,
  "nbformat_minor": 0,
  "metadata": {
    "colab": {
      "name": "Submission.ipynb",
      "provenance": [],
      "collapsed_sections": []
    },
    "kernelspec": {
      "name": "python3",
      "display_name": "Python 3"
    }
  },
  "cells": [
    {
      "cell_type": "markdown",
      "metadata": {
        "id": "WFeIHL7NL8oC"
      },
      "source": [
        "# **Paper, Rock, Scissor**\n",
        "Membuat program yang mampu menganali bentuk tangan yang membentuk gunting, batu, atau kertas\n",
        "\n",
        "# **About Me**\n",
        "Nama: Rasio Ganang Atmaja <br>\n",
        "Email: rasioganangatmaja@gmail.com\n",
        "\n",
        "\n",
        "\n",
        "---\n",
        "\n"
      ]
    },
    {
      "cell_type": "markdown",
      "metadata": {
        "id": "hfNY4AYrNalH"
      },
      "source": [
        "# **1. Download dataset**\n",
        "download dataset [rockpaperscissors](https://dicodingacademy.blob.core.windows.net/picodiploma/ml_pemula_academy/rockpaperscissors.zip) dari dicoding menggunakan wget command"
      ]
    },
    {
      "cell_type": "code",
      "metadata": {
        "id": "07479Hp0L5Yl",
        "outputId": "fb3ec25f-2846-453b-b207-ca317cafc195",
        "colab": {
          "base_uri": "https://localhost:8080/"
        }
      },
      "source": [
        "!wget --no-check-certificate \\\n",
        "  https://dicodingacademy.blob.core.windows.net/picodiploma/ml_pemula_academy/rockpaperscissors.zip \\\n",
        "  -O /tmp/rockpaperscissors.zip"
      ],
      "execution_count": 1,
      "outputs": [
        {
          "output_type": "stream",
          "text": [
            "--2020-11-03 02:19:51--  https://dicodingacademy.blob.core.windows.net/picodiploma/ml_pemula_academy/rockpaperscissors.zip\n",
            "Resolving dicodingacademy.blob.core.windows.net (dicodingacademy.blob.core.windows.net)... 52.239.197.36\n",
            "Connecting to dicodingacademy.blob.core.windows.net (dicodingacademy.blob.core.windows.net)|52.239.197.36|:443... connected.\n",
            "HTTP request sent, awaiting response... 200 OK\n",
            "Length: 322873683 (308M) [application/zip]\n",
            "Saving to: ‘/tmp/rockpaperscissors.zip’\n",
            "\n",
            "/tmp/rockpapersciss 100%[===================>] 307.92M  9.74MB/s    in 44s     \n",
            "\n",
            "2020-11-03 02:20:36 (6.93 MB/s) - ‘/tmp/rockpaperscissors.zip’ saved [322873683/322873683]\n",
            "\n"
          ],
          "name": "stdout"
        }
      ]
    },
    {
      "cell_type": "markdown",
      "metadata": {
        "id": "gPLl7kRPOlic"
      },
      "source": [
        "# **2. Proses Extraksi file**\n",
        "ekstraksi menggunakan packge zipfile dan inisiaisasi path dataset"
      ]
    },
    {
      "cell_type": "code",
      "metadata": {
        "id": "nnbpIg_RIKpJ"
      },
      "source": [
        "# melakukan ekstraksi pada file zip\n",
        "import zipfile,os\n",
        "local_zip = '/tmp/rockpaperscissors.zip'\n",
        "zip_ref = zipfile.ZipFile(local_zip, 'r')\n",
        "zip_ref.extractall('/tmp')\n",
        "zip_ref.close()\n"
      ],
      "execution_count": 2,
      "outputs": []
    },
    {
      "cell_type": "code",
      "metadata": {
        "id": "8q3P_iy7ISeV",
        "outputId": "66d81064-99ee-43d4-ac78-efa30532431d",
        "colab": {
          "base_uri": "https://localhost:8080/"
        }
      },
      "source": [
        "#inisialisasi path\n",
        "base_dir = '/tmp/rockpaperscissors'\n",
        "rock_dir = os.path.join(base_dir, 'rock')\n",
        "paper_dir = os.path.join(base_dir, 'paper')\n",
        "scissors_dir = os.path.join(base_dir, 'scissors')\n",
        "\n",
        "#memastikan folder rockpaperscissors ada\n",
        "os.listdir(base_dir)"
      ],
      "execution_count": 4,
      "outputs": [
        {
          "output_type": "execute_result",
          "data": {
            "text/plain": [
              "['rps-cv-images', 'rock', 'paper', 'README_rpc-cv-images.txt', 'scissors']"
            ]
          },
          "metadata": {
            "tags": []
          },
          "execution_count": 4
        }
      ]
    },
    {
      "cell_type": "markdown",
      "metadata": {
        "id": "UiJ_rZDG7GMK"
      },
      "source": [
        "# **3. Memisahkan dataset menjadi data training dan data validasi**\n",
        "Memecah dataset menjadi dua bagian data training dan data validasi dengan ukuran validation set 40% dari total dataset (data training memiliki 1314 sampel, dan data validasi sebanyak 874 sampel). \n",
        "\n",
        "Alur:\n",
        "- Membuat base folder untuk train dan validations\n",
        "- Membuat sub folder untuk rock papaer scissor di folder train dan validations\n",
        "- Split dataset\n",
        "- Menyalin semua gambar train dan validasi ke masing masing folder (tran/validation)"
      ]
    },
    {
      "cell_type": "code",
      "metadata": {
        "id": "FQS8RNiSBLhl"
      },
      "source": [
        "# Membuat base directory untuk train dan validations\n",
        "train_dir = os.path.join(base_dir, \"train\")\n",
        "os.mkdir(train_dir)\n",
        "\n",
        "val_dir = os.path.join(base_dir, \"val\")\n",
        "os.mkdir(val_dir)\n",
        "\n",
        "# Membuat sub folder untuk rock papaer scissor di folder train dan validations\n",
        "train_rock = os.path.join(train_dir, 'rock')\n",
        "os.mkdir(train_rock)\n",
        "train_paper = os.path.join(train_dir, 'paper')\n",
        "os.mkdir(train_paper)\n",
        "train_scissors = os.path.join(train_dir, 'scissors')\n",
        "os.mkdir(train_scissors)\n",
        "\n",
        "val_rock = os.path.join(val_dir, 'rock')\n",
        "os.mkdir(val_rock)\n",
        "val_paper = os.path.join(val_dir, 'paper')\n",
        "os.mkdir(val_paper)\n",
        "val_scissors = os.path.join(val_dir, 'scissors')\n",
        "os.mkdir(val_scissors)"
      ],
      "execution_count": 15,
      "outputs": []
    },
    {
      "cell_type": "code",
      "metadata": {
        "id": "msrsbjmx7pes"
      },
      "source": [
        "# Split dataset \n",
        "from sklearn.model_selection import train_test_split\n",
        "\n",
        "train_rock_dir, val_rock_dir = train_test_split(os.listdir(rock_dir), test_size=0.4)\n",
        "train_paper_dir, val_paper_dir = train_test_split(os.listdir(paper_dir), test_size=0.4)\n",
        "train_scissors_dir, val_scissors_dir = train_test_split(os.listdir(scissors_dir), test_size=0.4)"
      ],
      "execution_count": 16,
      "outputs": []
    },
    {
      "cell_type": "code",
      "metadata": {
        "id": "F85aqgvMCmmh"
      },
      "source": [
        "# Menyalin semua gambar train dan validasi ke masing masing folder (tran/validation)\n",
        "import shutil\n",
        "\n",
        "# Data Training\n",
        "for rock in train_rock_dir:\n",
        "  shutil.copy(os.path.join(rock_dir, rock), os.path.join(train_rock, rock))\n",
        "for paper in train_paper_dir:\n",
        "  shutil.copy(os.path.join(paper_dir, paper), os.path.join(train_paper, paper))\n",
        "for scissors in train_scissors_dir:\n",
        "  shutil.copy(os.path.join(scissors_dir, scissors), os.path.join(train_scissors, scissors))    "
      ],
      "execution_count": 19,
      "outputs": []
    },
    {
      "cell_type": "code",
      "metadata": {
        "id": "k91aeeOtE29F"
      },
      "source": [
        "# Data Validation\n",
        "for rock in val_rock_dir:\n",
        "  shutil.copy(os.path.join(rock_dir, rock), os.path.join(val_rock, rock))\n",
        "for paper in val_paper_dir:\n",
        "  shutil.copy(os.path.join(paper_dir, paper), os.path.join(val_paper, paper))\n",
        "for scissors in val_scissors_dir:\n",
        "  shutil.copy(os.path.join(scissors_dir, scissors), os.path.join(val_scissors, scissors))"
      ],
      "execution_count": 20,
      "outputs": []
    },
    {
      "cell_type": "code",
      "metadata": {
        "id": "xXgsNA5wFhAp",
        "outputId": "3cb5bd10-66de-47b6-cf39-e46ede7276a8",
        "colab": {
          "base_uri": "https://localhost:8080/"
        }
      },
      "source": [
        "# Jumlah data total\n",
        "rock = len(os.listdir(rock_dir))\n",
        "paper = len(os.listdir(paper_dir))\n",
        "scissors = len(os.listdir(scissors_dir))\n",
        "total_data = rock + paper + scissors\n",
        "print(\"Total data = \", total_data)\n",
        "\n",
        "\n",
        "# Memastikan Jumlah Dataset\n",
        "rock_train_count = len(os.listdir(train_rock))\n",
        "paper_train_count = len(os.listdir(train_paper))\n",
        "scissors_train_count = len(os.listdir(train_scissors))\n",
        "train_total = rock_train_count + paper_train_count + scissors_train_count\n",
        "print(\"Total Data Trainig = \", train_total)\n",
        "\n",
        "rock_val_count = len(os.listdir(val_rock))\n",
        "paper_val_count = len(os.listdir(val_paper))\n",
        "scissors_val_count = len(os.listdir(val_scissors))\n",
        "val_total = rock_val_count + paper_val_count + scissors_val_count\n",
        "print(\"Total Data Validation = \", val_total)"
      ],
      "execution_count": 28,
      "outputs": [
        {
          "output_type": "stream",
          "text": [
            "Total data =  2188\n",
            "Total Data Trainig =  1312\n",
            "Total Data Validation =  876\n"
          ],
          "name": "stdout"
        }
      ]
    },
    {
      "cell_type": "markdown",
      "metadata": {
        "id": "zZKaQqlx80b9"
      },
      "source": [
        "# **4. Membuat ImageGenerator**"
      ]
    },
    {
      "cell_type": "code",
      "metadata": {
        "id": "eLQxtZrZIkyO"
      },
      "source": [
        "from tensorflow.keras.preprocessing.image import ImageDataGenerator\n",
        " \n",
        "train_datagen = ImageDataGenerator(\n",
        "                    rescale=1./255,\n",
        "                    rotation_range=20,\n",
        "                    horizontal_flip=True,\n",
        "                    shear_range = 0.2,\n",
        "                    fill_mode = 'nearest')\n",
        " \n",
        "test_datagen = ImageDataGenerator(\n",
        "                    rescale=1./255,\n",
        "                    rotation_range=20,\n",
        "                    horizontal_flip=True,\n",
        "                    shear_range = 0.2,\n",
        "                    fill_mode = 'nearest')"
      ],
      "execution_count": 6,
      "outputs": []
    },
    {
      "cell_type": "code",
      "metadata": {
        "id": "9JIK7AhrIEAE",
        "outputId": "74e13bf4-026e-42f6-d95d-a26156f43175",
        "colab": {
          "base_uri": "https://localhost:8080/"
        }
      },
      "source": [
        "train_generator = train_datagen.flow_from_directory(\n",
        "    train_dir,\n",
        "    target_size =(150,150),\n",
        "    batch_size = 32,\n",
        "    class_mode = 'categorical'\n",
        ")\n",
        "\n",
        "validation_generator = test_datagen.flow_from_directory(\n",
        "    val_dir,\n",
        "    target_size = (150,150),\n",
        "    batch_size = 32,\n",
        "    class_mode = 'categorical'\n",
        ")"
      ],
      "execution_count": 30,
      "outputs": [
        {
          "output_type": "stream",
          "text": [
            "Found 1312 images belonging to 3 classes.\n",
            "Found 876 images belonging to 3 classes.\n"
          ],
          "name": "stdout"
        }
      ]
    },
    {
      "cell_type": "markdown",
      "metadata": {
        "id": "4j96gCqvKUi0"
      },
      "source": [
        "# **5. Membuat CNN**\n",
        "\n",
        "ALur:\n",
        "1. menentukan konfigurasi pixel\n",
        "2. set model to Sequentian\n",
        "3. compile konfigurasi model\n",
        "4. train data."
      ]
    },
    {
      "cell_type": "code",
      "metadata": {
        "id": "Tht-0FksI8_t"
      },
      "source": [
        "import tensorflow as tf\n",
        "model = tf.keras.models.Sequential([\n",
        "    tf.keras.layers.Conv2D(32, (3,3), activation='relu', input_shape=(150, 150, 3)),\n",
        "    tf.keras.layers.MaxPooling2D(2, 2),\n",
        "    tf.keras.layers.Conv2D(64, (3,3), activation='relu'),\n",
        "    tf.keras.layers.MaxPooling2D(2,2),\n",
        "    tf.keras.layers.Conv2D(128, (3,3), activation='relu'),\n",
        "    tf.keras.layers.MaxPooling2D(2,2),\n",
        "    tf.keras.layers.Conv2D(256, (3,3), activation='relu'),\n",
        "    tf.keras.layers.MaxPooling2D(2,2),\n",
        "    tf.keras.layers.Flatten(),\n",
        "    tf.keras.layers.Dense(512, activation='relu'),\n",
        "    tf.keras.layers.Dense(3, activation='softmax')\n",
        "])"
      ],
      "execution_count": 51,
      "outputs": []
    },
    {
      "cell_type": "code",
      "metadata": {
        "id": "vsG76tD9Kjmc"
      },
      "source": [
        "# Compile model ddengan categorical_crossentropy\n",
        "model.compile(loss = 'categorical_crossentropy',\n",
        "              optimizer = tf.optimizers.Adam(),\n",
        "              metrics=['accuracy'])"
      ],
      "execution_count": 52,
      "outputs": []
    },
    {
      "cell_type": "code",
      "metadata": {
        "id": "HrQO8lATK7p3",
        "outputId": "2c026a7d-c840-4b2f-c06a-d655efa7e142",
        "colab": {
          "base_uri": "https://localhost:8080/"
        }
      },
      "source": [
        "# latih model dengan model.fit \n",
        "model.fit(\n",
        "    train_generator,\n",
        "    steps_per_epoch = 25,\n",
        "    epochs = 20,\n",
        "    validation_data = validation_generator,\n",
        "    validation_steps = 5,\n",
        "    verbose =2\n",
        ")"
      ],
      "execution_count": 53,
      "outputs": [
        {
          "output_type": "stream",
          "text": [
            "Epoch 1/20\n",
            "25/25 - 43s - loss: 1.1561 - accuracy: 0.3400 - val_loss: 1.0632 - val_accuracy: 0.4000\n",
            "Epoch 2/20\n",
            "25/25 - 43s - loss: 0.9203 - accuracy: 0.5738 - val_loss: 0.6050 - val_accuracy: 0.7875\n",
            "Epoch 3/20\n",
            "25/25 - 43s - loss: 0.4642 - accuracy: 0.8263 - val_loss: 0.4816 - val_accuracy: 0.7937\n",
            "Epoch 4/20\n",
            "25/25 - 43s - loss: 0.3577 - accuracy: 0.8750 - val_loss: 0.2274 - val_accuracy: 0.9062\n",
            "Epoch 5/20\n",
            "25/25 - 46s - loss: 0.1918 - accuracy: 0.9250 - val_loss: 0.2303 - val_accuracy: 0.9312\n",
            "Epoch 6/20\n",
            "25/25 - 43s - loss: 0.1571 - accuracy: 0.9400 - val_loss: 0.2209 - val_accuracy: 0.9062\n",
            "Epoch 7/20\n",
            "25/25 - 43s - loss: 0.1540 - accuracy: 0.9425 - val_loss: 0.1322 - val_accuracy: 0.9625\n",
            "Epoch 8/20\n",
            "25/25 - 43s - loss: 0.1265 - accuracy: 0.9500 - val_loss: 0.1444 - val_accuracy: 0.9375\n",
            "Epoch 9/20\n",
            "25/25 - 43s - loss: 0.1120 - accuracy: 0.9650 - val_loss: 0.0662 - val_accuracy: 0.9812\n",
            "Epoch 10/20\n",
            "25/25 - 42s - loss: 0.1177 - accuracy: 0.9725 - val_loss: 0.0843 - val_accuracy: 0.9563\n",
            "Epoch 11/20\n",
            "25/25 - 43s - loss: 0.0901 - accuracy: 0.9725 - val_loss: 0.0945 - val_accuracy: 0.9688\n",
            "Epoch 12/20\n",
            "25/25 - 42s - loss: 0.0617 - accuracy: 0.9787 - val_loss: 0.0565 - val_accuracy: 0.9812\n",
            "Epoch 13/20\n",
            "25/25 - 42s - loss: 0.0833 - accuracy: 0.9737 - val_loss: 0.0925 - val_accuracy: 0.9688\n",
            "Epoch 14/20\n",
            "25/25 - 43s - loss: 0.0754 - accuracy: 0.9737 - val_loss: 0.1213 - val_accuracy: 0.9625\n",
            "Epoch 15/20\n",
            "25/25 - 43s - loss: 0.0959 - accuracy: 0.9575 - val_loss: 0.0741 - val_accuracy: 0.9688\n",
            "Epoch 16/20\n",
            "25/25 - 43s - loss: 0.0603 - accuracy: 0.9825 - val_loss: 0.0590 - val_accuracy: 0.9750\n",
            "Epoch 17/20\n",
            "25/25 - 42s - loss: 0.0771 - accuracy: 0.9750 - val_loss: 0.1558 - val_accuracy: 0.9563\n",
            "Epoch 18/20\n",
            "25/25 - 43s - loss: 0.0567 - accuracy: 0.9862 - val_loss: 0.0527 - val_accuracy: 0.9937\n",
            "Epoch 19/20\n",
            "25/25 - 46s - loss: 0.0684 - accuracy: 0.9825 - val_loss: 0.1076 - val_accuracy: 0.9625\n",
            "Epoch 20/20\n",
            "25/25 - 42s - loss: 0.0439 - accuracy: 0.9875 - val_loss: 0.0456 - val_accuracy: 0.9812\n"
          ],
          "name": "stdout"
        },
        {
          "output_type": "execute_result",
          "data": {
            "text/plain": [
              "<tensorflow.python.keras.callbacks.History at 0x7f69cf87fb38>"
            ]
          },
          "metadata": {
            "tags": []
          },
          "execution_count": 53
        }
      ]
    },
    {
      "cell_type": "markdown",
      "metadata": {
        "id": "eWM9y7gFcUn6"
      },
      "source": [
        "# **6. Memprediksi inputan gambar**"
      ]
    },
    {
      "cell_type": "code",
      "metadata": {
        "id": "_jBEuEcmcg1R",
        "outputId": "1c8db3e1-11e1-4daa-91d3-fa05e5d24099",
        "colab": {
          "resources": {
            "http://localhost:8080/nbextensions/google.colab/files.js": {
              "data": "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",
              "ok": true,
              "headers": [
                [
                  "content-type",
                  "application/javascript"
                ]
              ],
              "status": 200,
              "status_text": ""
            }
          },
          "base_uri": "https://localhost:8080/",
          "height": 355
        }
      },
      "source": [
        "import numpy as np\n",
        "from google.colab import files\n",
        "from keras.preprocessing import image\n",
        "import matplotlib.pyplot as plt\n",
        "import matplotlib.image as mpimg\n",
        "%matplotlib inline\n",
        " \n",
        "uploaded = files.upload()\n",
        " \n",
        "for fn in uploaded.keys():\n",
        " \n",
        "  # predicting images\n",
        "  path = fn\n",
        "  img = image.load_img(path, target_size=(150,150))\n",
        "  imgplot = plt.imshow(img)\n",
        "  x = image.img_to_array(img)\n",
        "  x = np.expand_dims(x, axis=0)\n",
        " \n",
        "  images = np.vstack([x])\n",
        "  classes = model.predict(images, batch_size=10)\n",
        "  \n",
        "  print(fn)\n",
        "  if classes[0,0]!=0:\n",
        "    print('paper')\n",
        "  elif classes[0,1]!=0:\n",
        "    print('rock')\n",
        "  else:\n",
        "    print('scissors')"
      ],
      "execution_count": 59,
      "outputs": [
        {
          "output_type": "display_data",
          "data": {
            "text/html": [
              "\n",
              "     <input type=\"file\" id=\"files-14d5c99e-e361-40cb-b2be-871965c162be\" name=\"files[]\" multiple disabled\n",
              "        style=\"border:none\" />\n",
              "     <output id=\"result-14d5c99e-e361-40cb-b2be-871965c162be\">\n",
              "      Upload widget is only available when the cell has been executed in the\n",
              "      current browser session. Please rerun this cell to enable.\n",
              "      </output>\n",
              "      <script src=\"/nbextensions/google.colab/files.js\"></script> "
            ],
            "text/plain": [
              "<IPython.core.display.HTML object>"
            ]
          },
          "metadata": {
            "tags": []
          }
        },
        {
          "output_type": "stream",
          "text": [
            "Saving hJuytZrZ7fR1CWyi.png to hJuytZrZ7fR1CWyi.png\n",
            "hJuytZrZ7fR1CWyi.png\n",
            "scissors\n"
          ],
          "name": "stdout"
        },
        {
          "output_type": "display_data",
          "data": {
            "image/png": "[encoded data removed]",
            "text/plain": [
              "<Figure size 432x288 with 1 Axes>"
            ]
          },
          "metadata": {
            "tags": [],
            "needs_background": "light"
          }
        }
      ]
    }
  ]
}